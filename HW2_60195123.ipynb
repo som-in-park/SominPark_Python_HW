{
 "cells": [
  {
   "cell_type": "markdown",
   "metadata": {},
   "source": [
    "## 단순 연결 리스트\n",
    "### 응용 예제 02 로또 추첨하기\n",
    "\n",
    "0~45 숫자 6개를 뽑는 로또 추첨 프로그램을 작성한다. 뽑은 숫자는 순서대로 단순 연결 리스트로 저장한다."
   ]
  },
  {
   "cell_type": "code",
   "execution_count": 1,
   "metadata": {},
   "outputs": [
    {
     "name": "stdout",
     "output_type": "stream",
     "text": [
      "13 7 3 21 16 36 "
     ]
    }
   ],
   "source": [
    "import random\n",
    "\n",
    "\n",
    "lotto = []\n",
    "\n",
    "# 노드 생성\n",
    "class Node():\n",
    "    def __init__(self):\n",
    "        self.data = None\n",
    "        self.link = None\n",
    "\n",
    "current, head, pre = None, None, None\n",
    "\n",
    "# 번호 뽑기\n",
    "lotto = random.sample(range(1,46),6)\n",
    "\n",
    "\n",
    "for i in range(len(lotto)):\n",
    "    node = Node()\n",
    "    node.data = lotto[i]\n",
    "    if head == None:\n",
    "        node.link = head\n",
    "        head = node\n",
    "    else:\n",
    "        pre.link = node\n",
    "    pre = node\n",
    "\n",
    "current = head\n",
    "\n",
    "while(current != None):\n",
    "    print(\"자동 번호:\",current.data, end = \" \")\n",
    "    current = current.link\n",
    "\n",
    "\n"
   ]
  },
  {
   "cell_type": "markdown",
   "metadata": {},
   "source": [
    "## 원형 연결 리스트\n",
    "### 응용 예제 01 현재 위치부터 가까운 편의점 관리하기\n",
    "\n",
    "현재 위치를 (0, 0)이라 가정하고, 편의점 위치 (x, y)와 거리가 가까운 순서대로 원형 연결 리스트를 생성하는 프로그램을 다음 조건에 맞게 작성한다.\n",
    "- 편의점 10개를 알파벳 순서로 이름을 부여한다.\n",
    "- 편의점 위치 x와 y는 1부터 100까지 랜덤하게 좌표가 생성되도록 한다.\n",
    "- 현재 위치와 편의점 거리는 ($x^2 + y^2$)의 제곱근(sqrt)으로 계산한다.\n",
    "- 편의점 데이터 1개는 (편의점이름, x좌표, y좌표) 형식의 튜플로 계산한다."
   ]
  },
  {
   "cell_type": "code",
   "execution_count": 2,
   "metadata": {},
   "outputs": [],
   "source": [
    "# 데이터 만들기\n",
    "\n",
    "import random\n",
    "\n",
    "name = ['A','B','C','D','E','F','G','H','I','J']\n",
    "data = []\n",
    "\n",
    "for i in range(len(name)):\n",
    "    x = random.randint(1,100)\n",
    "    y = random.randint(1,100)\n",
    "    data.append((name[i], x, y))"
   ]
  },
  {
   "cell_type": "code",
   "execution_count": 3,
   "metadata": {},
   "outputs": [
    {
     "name": "stdout",
     "output_type": "stream",
     "text": [
      "('H', 11, 39) ('E', 52, 21) ('A', 62, 1) ('G', 30, 60) ('D', 51, 50) ('C', 72, 4) ('F', 50, 53) ('J', 57, 69) ('B', 10, 90) \n",
      "H 편의점, 거리: 40.521599\n",
      "E 편의점, 거리: 56.080300\n",
      "A 편의점, 거리: 62.008064\n",
      "G 편의점, 거리: 67.082039\n",
      "D 편의점, 거리: 71.421285\n",
      "C 편의점, 거리: 72.111026\n",
      "F 편의점, 거리: 72.862885\n",
      "J 편의점, 거리: 89.498603\n",
      "B 편의점, 거리: 90.553851\n"
     ]
    }
   ],
   "source": [
    "import math\n",
    "\n",
    "def distance(data):\n",
    "    return math.sqrt(data[1]**2 + data[2]**2)\n",
    "\n",
    "class Node():\n",
    "    def __init__(self):\n",
    "        self.data = None\n",
    "        self.link = None\n",
    "\n",
    "def insetNode(convi):\n",
    "    global current, head, pre\n",
    "    node = Node()\n",
    "    node.data = convi\n",
    "    if head== None:\n",
    "        head = node\n",
    "        node.link = head\n",
    "        return\n",
    "    else:\n",
    "        if(distance(head.data) > distance(convi)):\n",
    "            node.link = head\n",
    "            last = head\n",
    "            while last.link != head:\n",
    "                last = last.link\n",
    "            last.link = node\n",
    "            head = node\n",
    "            return\n",
    "        \n",
    "        current = head\n",
    "        while current.link != head:\n",
    "            pre = current\n",
    "            current =current.link\n",
    "            if(distance(current.data) > distance(convi)):\n",
    "                node.link = current\n",
    "                pre.link = node\n",
    "                return\n",
    "\n",
    "        current.link = node\n",
    "        node.link = head\n",
    "            \n",
    "def printResult():\n",
    "    current = head\n",
    "    while current.link != head:\n",
    "        print(\"%s 편의점, 거리: %f\" %(current.data[0], distance(current.data)))\n",
    "        current = current.link\n",
    "    \n",
    "def printNode():\n",
    "    current = head\n",
    "    while current.link != head:\n",
    "        print(current.data, end = \" \")\n",
    "        current = current.link\n",
    "\n",
    "        \n",
    "        \n",
    "current, head, pre = None, None, None\n",
    "\n",
    "\n",
    "for i in range(len(data)):\n",
    "    insetNode(data[i])\n",
    "\n",
    "printNode()\n",
    "print()\n",
    "printResult()"
   ]
  },
  {
   "cell_type": "markdown",
   "metadata": {},
   "source": [
    "## 스택\n",
    "### 응용 예제 02 파일 내용을 완전히 거꾸로 출력하기\n",
    "\n",
    "텍스트 파일에서 전체 줄을 거꾸로 하고, 각 줄의 글자도 거꾸로 출력하는 프로그램을 작성한다.\n",
    "\n",
    "진달래꽃  \n",
    "나 보기가 역겨워  \n",
    "가실 때에는  \n",
    "말없이 고이 보내드리오리다."
   ]
  },
  {
   "cell_type": "code",
   "execution_count": 4,
   "metadata": {},
   "outputs": [
    {
     "name": "stdout",
     "output_type": "stream",
     "text": [
      "\n",
      "진달래꽃\n",
      "나 보기가 역겨워\n",
      "가실 때에는\n",
      "말없이 고이 보내드리오리다.\n",
      "\n",
      "\n",
      ".다리오리드내보 이고 이없말\n",
      "는에때 실가\n",
      "워겨역 가기보 나\n",
      "꽃래달진\n"
     ]
    }
   ],
   "source": [
    "def push(data):\n",
    "    global SIZE, stack,top\n",
    "    if (top >= SIZE-1):\n",
    "        print(\"스택이 꽉 찼습니다.\")\n",
    "        return\n",
    "    top+=1\n",
    "    stack[top]=data\n",
    "\n",
    "def pop():\n",
    "    global SIZE, stack,top\n",
    "    if (top== -1):\n",
    "        print(\"스택이 비었습니다.\")\n",
    "        return\n",
    "    data=stack[top]\n",
    "    stack[top]=None\n",
    "    top-=1\n",
    "    return data\n",
    "    \n",
    "    \n",
    "origin = \"\"\"\n",
    "진달래꽃\n",
    "나 보기가 역겨워\n",
    "가실 때에는\n",
    "말없이 고이 보내드리오리다.\n",
    "\"\"\"\n",
    "\n",
    "SIZE = len(origin)\n",
    "stack = [None for _ in range(SIZE)]\n",
    "\n",
    "top = -1\n",
    "for char in origin:\n",
    "    push(char)\n",
    "    print(char, end=\"\")\n",
    "\n",
    "print()\n",
    "\n",
    "for char in stack:\n",
    "    print(pop(),end = \"\")"
   ]
  },
  {
   "cell_type": "markdown",
   "metadata": {},
   "source": [
    "## 큐\n",
    "### 응용 예제 02 콜센터의 응답 대기 시간 계산하기\n",
    "\n",
    "한빛전자서비스 콜센터는 9시에 영업을 시작한다. 9시 전부터 전화 문의가 여러 건 대기하고 있다.  \n",
    "전화 문의는 주제에 따라 통화시간이 다를 것으로 예상한다. 예로 고장 수리는 3분, 사용 문의는 9분, 환불 문의는 4분, 기타 문의는 1분으로 통화 예상 시간이 설정되어 있다.  \n",
    "9시 이전에 고객이 전화를 하면 9시에 업무를 개시한 후 자신이 어느 정도 대기해야 하는지 시간을 알려준다.(단, 원형 큐를 이용하여 구현한다.)"
   ]
  },
  {
   "cell_type": "code",
   "execution_count": 5,
   "metadata": {
    "scrolled": true
   },
   "outputs": [
    {
     "name": "stdout",
     "output_type": "stream",
     "text": [
      "대기 시간이 23분 남았습니다.\n",
      "[('기타', 1), ('환불', 4), ('환불', 4), ('사용', 9), ('환불', 4), ('기타', 1)]\n",
      "대기 시간이 22분 남았습니다.\n",
      "[('환불', 4), ('환불', 4), ('사용', 9), ('환불', 4), ('기타', 1), None]\n",
      "대기 시간이 18분 남았습니다.\n",
      "[('환불', 4), ('사용', 9), ('환불', 4), ('기타', 1), None, None]\n",
      "대기 시간이 14분 남았습니다.\n",
      "[('사용', 9), ('환불', 4), ('기타', 1), None, None, None]\n",
      "대기 시간이 5분 남았습니다.\n",
      "[('환불', 4), ('기타', 1), None, None, None, None]\n",
      "대기 시간이 1분 남았습니다.\n",
      "[('기타', 1), None, None, None, None, None]\n",
      "상담원과 전화가 연결됩니다.\n"
     ]
    }
   ],
   "source": [
    "import random\n",
    "\n",
    "def isQueueFull():\n",
    "    global SIZE, queue,front,rear\n",
    "    if ((rear+1)%SIZE==front):\n",
    "        return True\n",
    "    else:\n",
    "        return False\n",
    "    \n",
    "def isQueueEmpty():\n",
    "    global SIZE, queue,front,rear\n",
    "    if (front==rear):\n",
    "        return True\n",
    "    else:\n",
    "        return False\n",
    "\n",
    "def enQueue(data):\n",
    "    global SIZE, queue,front,rear\n",
    "    if (isQueueFull()==True):\n",
    "        print(\"큐가 꽉 찼습니다.\")\n",
    "        return\n",
    "    rear=(rear+1)%SIZE\n",
    "    queue[rear]=data\n",
    "    \n",
    "    \n",
    "def deQueue():\n",
    "    global SIZE, queue,front,rear\n",
    "    if (isQueueEmpty()==True):\n",
    "        print(\"큐가 비었습니다.\")\n",
    "        return None\n",
    "    front=(front+1)%SIZE\n",
    "    data=queue[front]\n",
    "    for i in range(SIZE-1):\n",
    "        queue[i] = queue[i+1]\n",
    "    queue[SIZE-1]= None\n",
    "    return data\n",
    "\n",
    "def sumTime():\n",
    "    sum = 0\n",
    "    for i in range(SIZE):\n",
    "        if queue[i] != None:\n",
    "            sum += queue[i][1]\n",
    "    return sum\n",
    "\n",
    "\n",
    "front=rear=-1\n",
    "\n",
    "task = [('고장', 3),('사용', 9),('환불', 4),('기타',1)]\n",
    "queue = [None for _ in range(6)]\n",
    "SIZE = len(queue)\n",
    "\n",
    "for i in range(SIZE):\n",
    "    call = random.randint(0, len(task)-1)\n",
    "    enQueue(task[call])\n",
    "\n",
    "\n",
    "while(isQueueEmpty()==False):\n",
    "    print(\"대기 시간이 %d분 남았습니다.\"%sumTime() )\n",
    "    print(queue)\n",
    "    deQueue()\n",
    "print(\"상담원과 전화가 연결됩니다.\")"
   ]
  },
  {
   "cell_type": "code",
   "execution_count": null,
   "metadata": {},
   "outputs": [],
   "source": []
  },
  {
   "cell_type": "code",
   "execution_count": null,
   "metadata": {},
   "outputs": [],
   "source": []
  }
 ],
 "metadata": {
  "kernelspec": {
   "display_name": "Python 3 (ipykernel)",
   "language": "python",
   "name": "python3"
  },
  "language_info": {
   "codemirror_mode": {
    "name": "ipython",
    "version": 3
   },
   "file_extension": ".py",
   "mimetype": "text/x-python",
   "name": "python",
   "nbconvert_exporter": "python",
   "pygments_lexer": "ipython3",
   "version": "3.9.13"
  },
  "vscode": {
   "interpreter": {
    "hash": "31f2aee4e71d21fbe5cf8b01ff0e069b9275f58929596ceb00d14d90e3e16cd6"
   }
  }
 },
 "nbformat": 4,
 "nbformat_minor": 2
}
