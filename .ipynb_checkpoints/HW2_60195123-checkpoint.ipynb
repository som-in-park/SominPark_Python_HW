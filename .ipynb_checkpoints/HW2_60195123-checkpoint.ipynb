{
 "cells": [
  {
   "cell_type": "markdown",
   "metadata": {},
   "source": [
    "## 단순 연결 리스트\n",
    "### 응용 예제 02 로또 추첨하기\n",
    "\n",
    "0~45 숫자 6개를 뽑는 로또 추첨 프로그램을 작성한다. 뽑은 숫자는 순서대로 단순 연결 리스트로 저장한다."
   ]
  },
  {
   "cell_type": "code",
   "execution_count": 9,
   "metadata": {},
   "outputs": [
    {
     "name": "stdout",
     "output_type": "stream",
     "text": [
      "7 44 6 36 28 26 "
     ]
    }
   ],
   "source": [
    "import random\n",
    "\n",
    "\n",
    "lotto = []\n",
    "\n",
    "# 노드 생성\n",
    "class Node():\n",
    "    def __init__(self):\n",
    "        self.data = None\n",
    "        self.link = None\n",
    "\n",
    "current, head, pre = None, None, None\n",
    "\n",
    "# 번호 뽑기\n",
    "lotto = random.sample(range(1,46),6)\n",
    "\n",
    "\n",
    "for i in range(len(lotto)):\n",
    "    node = Node()\n",
    "    node.data = lotto[i]\n",
    "    if head == None:\n",
    "        node.link = head\n",
    "        head = node\n",
    "    else:\n",
    "        pre.link = node\n",
    "    pre = node\n",
    "\n",
    "current = head\n",
    "\n",
    "while(current != None):\n",
    "    print(current.data, end = \" \")\n",
    "    current = current.link\n",
    "\n",
    "\n"
   ]
  },
  {
   "cell_type": "markdown",
   "metadata": {},
   "source": [
    "## 원형 연결 리스트\n",
    "### 응용 예제 01 현재 위치부터 가까운 편의점 관리하기\n",
    "\n",
    "현재 위치를 (0, 0)이라 가정하고, 편의점 위치 (x, y)와 거리가 가까운 순서대로 원형 연결 리스트를 생성하는 프로그램을 다음 조건에 맞게 작성한다.\n",
    "- 편의점 10개를 알파벳 순서로 이름을 부여한다.\n",
    "- 편의점 위치 x와 y는 1부터 100까지 랜덤하게 좌표가 생성되도록 한다.\n",
    "- 현재 위치와 편의점 거리는 ($x^2 + y^2$)의 제곱근(sqrt)으로 계산한다.\n",
    "- 편의점 데이터 1개는 (편의점이름, x좌표, y좌표) 형식의 튜플로 계산한다."
   ]
  },
  {
   "cell_type": "code",
   "execution_count": 3,
   "metadata": {},
   "outputs": [
    {
     "name": "stdout",
     "output_type": "stream",
     "text": [
      "A 편의점, 거리: 37.643060\n",
      "H 편의점, 거리: 51.039201\n",
      "D 편의점, 거리: 55.901699\n",
      "B 편의점, 거리: 70.384657\n",
      "G 편의점, 거리: 71.063352\n",
      "E 편의점, 거리: 80.777472\n",
      "I 편의점, 거리: 82.764727\n",
      "J 편의점, 거리: 99.126182\n",
      "F 편의점, 거리: 106.892469\n"
     ]
    }
   ],
   "source": [
    "import random\n",
    "import math\n",
    "\n",
    "name = ['A','B','C','D','E','F','G','H','I','J']\n",
    "data = []\n",
    "\n",
    "def distance(data):\n",
    "    return math.sqrt(data[1]**2 + data[2]**2)\n",
    "\n",
    "class Node():\n",
    "    def __init__(self):\n",
    "        self.data = None\n",
    "        self.link = None\n",
    "\n",
    "def insetNode(convi):\n",
    "    global current, head, pre\n",
    "    node = Node()\n",
    "    node.data = convi\n",
    "    if head== None:\n",
    "        head = node\n",
    "        node.link = head\n",
    "        return\n",
    "    else:\n",
    "        if(distance(head.data) > distance(convi)):\n",
    "            node.link = head\n",
    "            last = head\n",
    "            while last.link != head:\n",
    "                last = last.link\n",
    "            last.link = node\n",
    "            head = node\n",
    "            return\n",
    "        \n",
    "        current = head\n",
    "        while current.link != head:\n",
    "            pre = current\n",
    "            current =current.link\n",
    "            if(distance(current.data) > distance(convi)):\n",
    "                node.link = current\n",
    "                pre.link = node\n",
    "                return\n",
    "\n",
    "        current.link = node\n",
    "        node.link = head\n",
    "            \n",
    "def printNode():\n",
    "    current = head\n",
    "    cnt = 0\n",
    "    while current.link != head:\n",
    "        print(\"%s 편의점, 거리: %f\" %(current.data[0], distance(current.data)))\n",
    "        current = current.link\n",
    "        cnt+=1\n",
    "        if cnt==11:\n",
    "            return\n",
    "        \n",
    "current, head, pre = None, None, None\n",
    "\n",
    "\n",
    "for i in range(len(name)):\n",
    "    x = random.randint(1,100)\n",
    "    y = random.randint(1,100)\n",
    "    data.append((name[i], x, y))\n",
    "\n",
    "for i in range(len(data)):\n",
    "    insetNode(data[i])\n",
    "\n",
    "printNode()"
   ]
  },
  {
   "cell_type": "markdown",
   "metadata": {},
   "source": [
    "## 스택\n",
    "### 응용 예제 02 파일 내용을 완전히 거꾸로 출력하기\n",
    "\n",
    "텍스트 파일에서 전체 줄을 거꾸로 하고, 각 줄의 글자도 거꾸로 출력하는 프로그램을 작성한다.\n",
    "\n",
    "진달래꽃  \n",
    "나 보기가 역겨워  \n",
    "가실 때에는  \n",
    "말없이 고이 보내드리오리다."
   ]
  },
  {
   "cell_type": "code",
   "execution_count": null,
   "metadata": {},
   "outputs": [],
   "source": []
  },
  {
   "cell_type": "markdown",
   "metadata": {},
   "source": [
    "## 큐\n",
    "### 응용 예제 02 콜센터의 응답 대기 시간 계산하기\n",
    "\n",
    "한빛전자서비스 콜센터는 9시에 영업을 시작하낟. 9시 전부터 전화 문의가 여러 건 대기하고 있다.  \n",
    "전화 문의는 주제에 따라 통화시간이 다를 것으로 예상한다. 예로 고장 수리는 3분, 사용 문의는 9분, 환불 문의는 4분, 기타 문의는 1분으로 통화 예상 시간이 설정되어 있다.  \n",
    "9시 이전에 고객이 전화를 하면 9시에 업무를 개시한 후 자신이 어느 정도 대기해야 하는지 시간을 알려준다.(단, 원형 큐를 이용하여 구현한다.)"
   ]
  },
  {
   "cell_type": "code",
   "execution_count": null,
   "metadata": {},
   "outputs": [],
   "source": []
  }
 ],
 "metadata": {
  "kernelspec": {
   "display_name": "Python 3 (ipykernel)",
   "language": "python",
   "name": "python3"
  },
  "language_info": {
   "codemirror_mode": {
    "name": "ipython",
    "version": 3
   },
   "file_extension": ".py",
   "mimetype": "text/x-python",
   "name": "python",
   "nbconvert_exporter": "python",
   "pygments_lexer": "ipython3",
   "version": "3.9.13"
  },
  "vscode": {
   "interpreter": {
    "hash": "31f2aee4e71d21fbe5cf8b01ff0e069b9275f58929596ceb00d14d90e3e16cd6"
   }
  }
 },
 "nbformat": 4,
 "nbformat_minor": 2
}
